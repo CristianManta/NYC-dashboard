{
 "cells": [
  {
   "cell_type": "code",
   "execution_count": 222,
   "metadata": {},
   "outputs": [],
   "source": [
    "import pandas as pd"
   ]
  },
  {
   "cell_type": "code",
   "execution_count": 231,
   "metadata": {},
   "outputs": [],
   "source": [
    "# Loading the data\n",
    "data_generator = pd.read_csv(\"nyc_311.csv.tgz\", compression=\"gzip\", header=None, \n",
    "                   usecols=[1, 2, 8], names=[\"Created Date\", \"Closed Date\", \"Incident Zip\"],\n",
    "                             dtype={'Incident Zip': 'str'}, chunksize=10 ** 5)"
   ]
  },
  {
   "cell_type": "code",
   "execution_count": 224,
   "metadata": {},
   "outputs": [],
   "source": [
    "def format_date(df):\n",
    "    for index in df.index:\n",
    "        unformatted_created_date = df.loc[index, 'Created Date']\n",
    "        df.loc[index, 'Created Date'] = pd.to_datetime(unformatted_created_date, format='%m/%d/%Y %I:%M:%S %p')\n",
    "        \n",
    "        unformatted_closed_date = df.loc[index, 'Closed Date']\n",
    "        df.loc[index, 'Closed Date'] = pd.to_datetime(unformatted_closed_date, format='%m/%d/%Y %I:%M:%S %p')\n",
    "        \n",
    "\n",
    "def keep_2020_only(df):\n",
    "    rows_to_drop = []\n",
    "    for index in df.index:\n",
    "        if df.loc[index, 'Created Date'].year != 2020:\n",
    "            rows_to_drop.append(index)\n",
    "        \n",
    "    df.drop(rows_to_drop, inplace=True)\n"
   ]
  },
  {
   "cell_type": "code",
   "execution_count": null,
   "metadata": {},
   "outputs": [],
   "source": [
    "# Cleaning the data (keep only year 2020 and incidents that have been closed)\n",
    "for chunk in data_generator:        \n",
    "    chunk.dropna(inplace=True)\n",
    "    format_date(chunk)\n",
    "    keep_2020_only(chunk)\n",
    "    \n",
    "    chunk.to_csv('clean.csv.tgz', header=False, mode='a', compression='gzip')\n"
   ]
  }
 ],
 "metadata": {
  "kernelspec": {
   "display_name": "Python 3",
   "language": "python",
   "name": "python3"
  },
  "language_info": {
   "codemirror_mode": {
    "name": "ipython",
    "version": 3
   },
   "file_extension": ".py",
   "mimetype": "text/x-python",
   "name": "python",
   "nbconvert_exporter": "python",
   "pygments_lexer": "ipython3",
   "version": "3.8.3"
  }
 },
 "nbformat": 4,
 "nbformat_minor": 4
}
